{
 "cells": [
  {
   "cell_type": "markdown",
   "metadata": {},
   "source": [
    "https://mp.weixin.qq.com/s?__biz=MzI1NTYzMTE4NA==&mid=2247483723&idx=1&sn=eee5814cb04c9ae6d089b8285cce1bd1&chksm=ea324b74dd45c2620c93ef5f0062c5e6a8bb486bbe47049f7aa7353d73e96705324b8fafe99a&mpshare=1&scene=1&srcid=1109vOSSyTDGUlOA4mhubAVZ&sharer_sharetime=1605007271520&sharer_shareid=76c7256f518be042b2c9b85c1b1ad471&key=dd1ecb7d7c9e7a36115a85c8292e3dc9334598e17b0acc91557d91431d111c8894623afa316811bb75e672b45fdea64699151327e4aa59f79fd4f5ffdaf5b2ae224f9df9362ae23cabf3918cb795975649f759782f2386e88d0095ab37df8b36213e3e9b9b520bd44dc334ccf0883c05421311ea0abc1c95003eb63bd4390e0b&ascene=1&uin=MjA1MjAyODkxNg%3D%3D&devicetype=Windows+10+x64&version=6300002f&lang=zh_CN&exportkey=AcmYsgpD%2B1GlOaY15P7wnwE%3D&pass_ticket=aqPG2suLoh9YMlR0O7w%2FI36%2FbSUq%2BExFxWJfWTPwF%2FbQeYzaSLvWfNWd5KolBXoE&wx_header=0"
   ]
  },
  {
   "cell_type": "code",
   "execution_count": 1,
   "metadata": {},
   "outputs": [],
   "source": [
    "import os\n",
    "import torch\n",
    "import torch.nn as nn\n",
    "import torch.nn.functional as F\n",
    "import torchvision\n",
    "import matplotlib.pyplot as plt\n",
    "import numpy as np\n",
    "from torchvision import transforms\n",
    "from torchvision.utils import save_image"
   ]
  },
  {
   "cell_type": "code",
   "execution_count": 2,
   "metadata": {},
   "outputs": [],
   "source": [
    "# 超参数定义\n",
    "device = torch.device('cuda' if torch.cuda.is_available() else 'cpu')\n",
    "num_epochs = 5\n",
    "batch_size = 64\n",
    "learning_rate = 1e-3"
   ]
  },
  {
   "cell_type": "code",
   "execution_count": 3,
   "metadata": {},
   "outputs": [],
   "source": [
    "# 数据加载\n",
    "root = '../dataset/'\n",
    "train_dataset = torchvision.datasets.MNIST(root=root,train=True,transform=transforms.ToTensor(),download=True)\n",
    "test_dataset = torchvision.datasets.MNIST(root=root,train=False,transform=transforms.ToTensor())\n",
    "train_loader = torch.utils.data.DataLoader(dataset=train_dataset,batch_size=batch_size,shuffle=True)\n",
    "test_loader = torch.utils.data.DataLoader(dataset=test_dataset,batch_size=batch_size,shuffle=True)"
   ]
  },
  {
   "cell_type": "code",
   "execution_count": 4,
   "metadata": {},
   "outputs": [
    {
     "name": "stdout",
     "output_type": "stream",
     "text": [
      "label is 0\n"
     ]
    },
    {
     "data": {
      "image/png": "[encoded data removed]",
      "text/plain": [
       "<matplotlib.figure.Figure at 0x2821d3e8eb8>"
      ]
     },
     "metadata": {
      "needs_background": "light"
     },
     "output_type": "display_data"
    }
   ],
   "source": [
    "def show_img(data_tuple):\n",
    "    img,label = data_tuple\n",
    "    img = img.squeeze()\n",
    "    plt.imshow(img)\n",
    "    print(f\"label is {label}\")\n",
    "show_img(train_dataset[1])"
   ]
  },
  {
   "cell_type": "code",
   "execution_count": 17,
   "metadata": {},
   "outputs": [
    {
     "data": {
      "text/plain": [
       "torch.Size([1, 10, 16])"
      ]
     },
     "execution_count": 17,
     "metadata": {},
     "output_type": "execute_result"
    }
   ],
   "source": [
    "def squash(x):\n",
    "    L = torch.norm(x,dim=2,keepdim=True)\n",
    "    L_square = L**2\n",
    "    c = (L_square)/(1 + L_square)/L\n",
    "    s = c*x\n",
    "    s[s == np.nan] = 0\n",
    "    return s\n",
    "x = torch.rand(1,10,16)\n",
    "squash(x).shape"
   ]
  },
  {
   "cell_type": "code",
   "execution_count": null,
   "metadata": {},
   "outputs": [],
   "source": [
    "def dynamic_routing(x,iterations=3):\n",
    "    N = 32*6*6\n",
    "    N1 = 10\n",
    "    B = x.shape[0]\n",
    "    b = torch.zeros(B,N1,N,1,1).to(x.device)\n",
    "    for _ in range(iterations):\n",
    "        c = F.softmax(b,dim=1)\n",
    "        "
   ]
  }
 ],
 "metadata": {
  "kernelspec": {
   "display_name": "Python [conda env:root]",
   "language": "python",
   "name": "conda-root-py"
  },
  "language_info": {
   "codemirror_mode": {
    "name": "ipython",
    "version": 3
   },
   "file_extension": ".py",
   "mimetype": "text/x-python",
   "name": "python",
   "nbconvert_exporter": "python",
   "pygments_lexer": "ipython3",
   "version": "3.6.5"
  }
 },
 "nbformat": 4,
 "nbformat_minor": 4
}
