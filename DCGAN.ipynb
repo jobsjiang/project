{
 "cells": [
  {
   "cell_type": "markdown",
   "metadata": {},
   "source": [
    "https://mp.weixin.qq.com/s/CtFvURdJR314OBFDhu5hGg"
   ]
  },
  {
   "cell_type": "code",
   "execution_count": 1,
   "metadata": {},
   "outputs": [],
   "source": [
    "# 导入所需的库\n",
    "import torch\n",
    "from torch import nn\n",
    "from torch import optim\n",
    "from torchvision.transforms import transforms\n",
    "import numpy as np\n",
    "from PIL import Image\n",
    "import matplotlib.pyplot as plt\n",
    "from tqdm.notebook import tqdm\n",
    "import warnings\n",
    "warnings.filterwarnings('ignore')"
   ]
  },
  {
   "cell_type": "code",
   "execution_count": 6,
   "metadata": {},
   "outputs": [
    {
     "name": "stdout",
     "output_type": "stream",
     "text": [
      "torch.Size([3, 32, 32])\n"
     ]
    },
    {
     "data": {
      "image/png": "[encoded data removed]",
      "text/plain": [
       "<Figure size 432x288 with 1 Axes>"
      ]
     },
     "metadata": {
      "needs_background": "light"
     },
     "output_type": "display_data"
    }
   ],
   "source": [
    "transform = transforms.Compose(\n",
    "    [\n",
    "        transforms.Resize((32,32)),\n",
    "        transforms.ToTensor()\n",
    "    ]\n",
    ")\n",
    "flat_img = 3072\n",
    "img = Image.open('../dataset/truck.jpg')\n",
    "real_img = transform(img)\n",
    "torch.manual_seed(2)\n",
    "fake_img = torch.rand(1,100)\n",
    "# print(real_img.size())\n",
    "plt.imshow(np.transpose(real_img.numpy(),(1,2,0)))\n",
    "# plt.imshow(real_img.numpy())\n",
    "print(real_img.size())"
   ]
  },
  {
   "cell_type": "code",
   "execution_count": 7,
   "metadata": {},
   "outputs": [],
   "source": [
    "# 创建一个判别器模型\n",
    "class Discriminator(nn.Module):\n",
    "    def __init__(self):\n",
    "        super().__init__()\n",
    "        self.linear = nn.Sequential(\n",
    "            nn.Linear(flat_img,10000),\n",
    "            nn.ReLU(),\n",
    "            nn.Linear(10000,1),\n",
    "            nn.Sigmoid()\n",
    "        )\n",
    "    def forward(self,img):\n",
    "        img = img.view(1,-1)\n",
    "        out = self.linear(img)\n",
    "        return out"
   ]
  },
  {
   "cell_type": "code",
   "execution_count": 8,
   "metadata": {},
   "outputs": [],
   "source": [
    "# 创建一个生成器模型\n",
    "class Generator(nn.Module):\n",
    "    def __init__(self):\n",
    "        super().__init__()\n",
    "        self.linear = nn.Sequential(\n",
    "            nn.Linear(100,10000),\n",
    "            nn.LeakyReLU(),\n",
    "            nn.Linear(10000,4000),\n",
    "            nn.LeakyReLU(),\n",
    "            nn.Linear(4000,flat_img)\n",
    "        )\n",
    "    def forward(self,latent_space):\n",
    "        latent_space = latent_space.view(1,-1)\n",
    "        out = self.linear(latent_space)\n",
    "        return out"
   ]
  },
  {
   "cell_type": "code",
   "execution_count": 10,
   "metadata": {},
   "outputs": [],
   "source": [
    "# 初始化模型，优化器和损失函数\n",
    "device = 'cuda:0' if torch.cuda.is_available() else 'cpu'\n",
    "discr = Discriminator().to(device)\n",
    "gen = Generator().to(device)\n",
    "opt_d = optim.SGD(discr.parameters(),lr=0.001,momentum=0.9)\n",
    "opt_g = optim.SGD(gen.parameters(),lr=0.001,momentum=0.9)\n",
    "criterion = nn.BCELoss()"
   ]
  },
  {
   "cell_type": "code",
   "execution_count": null,
   "metadata": {},
   "outputs": [],
   "source": [
    "epochs = 500\n",
    "discr_e = 4\n",
    "gen_e = 3\n",
    "for epoch in tqdm(range(epochs),total=epochs):\n",
    "    for k in range(discr_e):\n",
    "        opt_d.zero_grad()\n",
    "        out_d1 = discr(real_img.to(device))\n",
    "        # loss for real image\n",
    "        loss_d1 = criterion(out_d1,torch.ones((1,1)).to(device))\n",
    "        loss_d1.backward()\n",
    "        out_d2 = gen(fake_img.to(device)).detach()\n",
    "        # loss for fake image\n",
    "        loss_d2 = criterion(discr(out_d2.to(device)),torch.zeros((1,1)).to(device))\n",
    "        loss_d2.backward()\n",
    "        opt_d.step()\n",
    "    # generator training\n",
    "    for i in range(gen_e):\n",
    "        opt_g.zero_grad()\n",
    "        out_g = gen(fake_img.to(device))\n",
    "        loss_g = torch.log(1.0-(discr(out_g.to(device))))\n",
    "        loss_g.backward()\n",
    "        opt_g.step()"
   ]
  }
 ],
 "metadata": {
  "kernelspec": {
   "display_name": "Python [conda env:root]",
   "language": "python",
   "name": "conda-root-py"
  },
  "language_info": {
   "codemirror_mode": {
    "name": "ipython",
    "version": 3
   },
   "file_extension": ".py",
   "mimetype": "text/x-python",
   "name": "python",
   "nbconvert_exporter": "python",
   "pygments_lexer": "ipython3",
   "version": "3.6.5"
  }
 },
 "nbformat": 4,
 "nbformat_minor": 4
}
