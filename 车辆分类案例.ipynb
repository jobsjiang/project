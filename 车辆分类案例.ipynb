{
 "cells": [
  {
   "cell_type": "markdown",
   "metadata": {},
   "source": [
    "https://mp.weixin.qq.com/s/0Y6OYp-bGQf7rFMNnEgSdA"
   ]
  },
  {
   "cell_type": "code",
   "execution_count": 1,
   "metadata": {},
   "outputs": [],
   "source": [
    "# 导入库\n",
    "import pandas as pd\n",
    "import numpy as np\n",
    "from tqdm import tqdm\n",
    "# 用于读取和显示图像\n",
    "from skimage.io import imread\n",
    "from skimage.transform import resize\n",
    "import matplotlib.pyplot as plt\n",
    "%matplotlib inline\n",
    "# 用于创建验证集\n",
    "from sklearn.model_selection import train_test_split\n",
    "# 用于评估模型\n",
    "from sklearn.metrics import accuracy_score\n",
    "# PyTorch库和模块\n",
    "import torch\n",
    "from torch.autograd import Variable\n",
    "from torch.nn import Linear,ReLU,CrossEntropyLoss,Sequential,Conv2d,MaxPool2d,Module,Softmax,BatchNorm2d,Dropout\n",
    "from torch.optim import Adam,SGD\n",
    "# 预训练模型\n",
    "from torchvision import models\n",
    "import torch.nn.functional as F"
   ]
  },
  {
   "cell_type": "code",
   "execution_count": 2,
   "metadata": {},
   "outputs": [],
   "source": [
    "# 加载数据集\n",
    "train = pd.read_csv('../dataset/emergency_vs_non-emergency_dataset/emergency_train.csv')"
   ]
  },
  {
   "cell_type": "code",
   "execution_count": 3,
   "metadata": {},
   "outputs": [
    {
     "data": {
      "text/html": [
       "<div>\n",
       "<style scoped>\n",
       "    .dataframe tbody tr th:only-of-type {\n",
       "        vertical-align: middle;\n",
       "    }\n",
       "\n",
       "    .dataframe tbody tr th {\n",
       "        vertical-align: top;\n",
       "    }\n",
       "\n",
       "    .dataframe thead th {\n",
       "        text-align: right;\n",
       "    }\n",
       "</style>\n",
       "<table border=\"1\" class=\"dataframe\">\n",
       "  <thead>\n",
       "    <tr style=\"text-align: right;\">\n",
       "      <th></th>\n",
       "      <th>image_names</th>\n",
       "      <th>emergency_or_not</th>\n",
       "    </tr>\n",
       "  </thead>\n",
       "  <tbody>\n",
       "    <tr>\n",
       "      <th>0</th>\n",
       "      <td>1503.jpg</td>\n",
       "      <td>0</td>\n",
       "    </tr>\n",
       "    <tr>\n",
       "      <th>1</th>\n",
       "      <td>1420.jpg</td>\n",
       "      <td>0</td>\n",
       "    </tr>\n",
       "    <tr>\n",
       "      <th>2</th>\n",
       "      <td>1764.jpg</td>\n",
       "      <td>0</td>\n",
       "    </tr>\n",
       "    <tr>\n",
       "      <th>3</th>\n",
       "      <td>1356.jpg</td>\n",
       "      <td>0</td>\n",
       "    </tr>\n",
       "    <tr>\n",
       "      <th>4</th>\n",
       "      <td>1117.jpg</td>\n",
       "      <td>0</td>\n",
       "    </tr>\n",
       "  </tbody>\n",
       "</table>\n",
       "</div>"
      ],
      "text/plain": [
       "  image_names  emergency_or_not\n",
       "0    1503.jpg                 0\n",
       "1    1420.jpg                 0\n",
       "2    1764.jpg                 0\n",
       "3    1356.jpg                 0\n",
       "4    1117.jpg                 0"
      ]
     },
     "execution_count": 3,
     "metadata": {},
     "output_type": "execute_result"
    }
   ],
   "source": [
    "train.head()"
   ]
  },
  {
   "cell_type": "code",
   "execution_count": 4,
   "metadata": {},
   "outputs": [
    {
     "name": "stderr",
     "output_type": "stream",
     "text": [
      "100%|█████████████████████████████████████████████████████████████████████████████| 1646/1646 [00:13<00:00, 125.30it/s]\n"
     ]
    },
    {
     "data": {
      "text/plain": [
       "(1646, 224, 224, 3)"
      ]
     },
     "execution_count": 4,
     "metadata": {},
     "output_type": "execute_result"
    }
   ],
   "source": [
    "# 加载训练图片\n",
    "train_img = []\n",
    "for img_name in tqdm(train['image_names']):\n",
    "    # 定义图像路径\n",
    "    image_path = '../dataset/emergency_vs_non-emergency_dataset/images/' + img_name\n",
    "    # 读取图片\n",
    "    img = imread(image_path)\n",
    "    # 标准化像素值\n",
    "    img = img / 255\n",
    "    img = resize(img,output_shape=(224,224,3),mode='constant',anti_aliasing=True)\n",
    "    # 转换为浮点数\n",
    "    img = img.astype('float32')\n",
    "    # 添加图片到列表\n",
    "    train_img.append(img)\n",
    "# 转换为numpy数组\n",
    "train_x = np.array(train_img)\n",
    "train_x.shape"
   ]
  },
  {
   "cell_type": "code",
   "execution_count": 5,
   "metadata": {},
   "outputs": [
    {
     "data": {
      "text/plain": [
       "(((1481, 224, 224, 3), (1481,)), ((165, 224, 224, 3), (165,)))"
      ]
     },
     "execution_count": 5,
     "metadata": {},
     "output_type": "execute_result"
    }
   ],
   "source": [
    "# 创建训练和验证集\n",
    "train_y = train['emergency_or_not'].values # 定义目标\n",
    "# 创建验证集\n",
    "X_train,X_test,y_train,y_test = train_test_split(train_x,train_y,test_size=0.1,random_state=13,stratify=train_y)\n",
    "(X_train.shape,y_train.shape),(X_test.shape,y_test.shape)"
   ]
  },
  {
   "cell_type": "code",
   "execution_count": 6,
   "metadata": {},
   "outputs": [],
   "source": [
    "# 将图像转换为torch格式\n",
    "X_train = X_train.reshape(1481,3,224,224)\n",
    "X_train = torch.from_numpy(X_train)\n",
    "# 转换目标到torch格式\n",
    "y_train = y_train.astype(int)\n",
    "y_train = torch.from_numpy(y_train)\n",
    "# 转换验证图像为torch格式\n",
    "X_test = X_test.reshape(165,3,224,224)\n",
    "X_test = torch.from_numpy(X_test)\n",
    "# 转换目标到torch格式\n",
    "y_test = y_test.astype(int)\n",
    "y_test = torch.from_numpy(y_test)"
   ]
  },
  {
   "cell_type": "code",
   "execution_count": 7,
   "metadata": {},
   "outputs": [],
   "source": [
    "# 定义模型架构\n",
    "torch.manual_seed(0)\n",
    "\n",
    "class Net(Module):\n",
    "    def __init__(self):\n",
    "        super(Net,self).__init__()\n",
    "        self.cnn_layers = Sequential(\n",
    "            # 定义2D卷积层\n",
    "            Conv2d(3,16,kernel_size=3,stride=1,padding=1),\n",
    "            ReLU(inplace=True),\n",
    "            MaxPool2d(kernel_size=2,stride=2),\n",
    "            # 另一层2D卷积层\n",
    "            Conv2d(16,32,kernel_size=3,stride=1,padding=1),\n",
    "            ReLU(inplace=True),\n",
    "            MaxPool2d(kernel_size=2,stride=2)\n",
    "        )\n",
    "        self.linear_layers = Sequential(\n",
    "            Linear(32*56*56,2)\n",
    "        )\n",
    "    # 前向传播\n",
    "    def forward(self,x):\n",
    "        x = self.cnn_layers(x)\n",
    "        x = x.view(x.size(0),-1)\n",
    "        x = self.linear_layers(x)\n",
    "        return x"
   ]
  },
  {
   "cell_type": "code",
   "execution_count": 8,
   "metadata": {},
   "outputs": [
    {
     "name": "stdout",
     "output_type": "stream",
     "text": [
      "Net(\n",
      "  (cnn_layers): Sequential(\n",
      "    (0): Conv2d(3, 16, kernel_size=(3, 3), stride=(1, 1), padding=(1, 1))\n",
      "    (1): ReLU(inplace=True)\n",
      "    (2): MaxPool2d(kernel_size=2, stride=2, padding=0, dilation=1, ceil_mode=False)\n",
      "    (3): Conv2d(16, 32, kernel_size=(3, 3), stride=(1, 1), padding=(1, 1))\n",
      "    (4): ReLU(inplace=True)\n",
      "    (5): MaxPool2d(kernel_size=2, stride=2, padding=0, dilation=1, ceil_mode=False)\n",
      "  )\n",
      "  (linear_layers): Sequential(\n",
      "    (0): Linear(in_features=100352, out_features=2, bias=True)\n",
      "  )\n",
      ")\n"
     ]
    }
   ],
   "source": [
    "# 定义模型参数\n",
    "model = Net() # 定义模型\n",
    "# 定义优化器\n",
    "optimizer = Adam(model.parameters(),lr=0.0001)\n",
    "# 定义损失函数\n",
    "criterion = CrossEntropyLoss()\n",
    "# 检查GPU是否可用\n",
    "if torch.cuda.is_available():\n",
    "    model = model.cuda()\n",
    "    criterion = criterion.cuda()\n",
    "print(model)"
   ]
  },
  {
   "cell_type": "code",
   "execution_count": null,
   "metadata": {},
   "outputs": [
    {
     "name": "stderr",
     "output_type": "stream",
     "text": [
      "\r",
      "  0%|                                                                                           | 0/12 [00:00<?, ?it/s]"
     ]
    },
    {
     "name": "stdout",
     "output_type": "stream",
     "text": [
      "torch.float32\n",
      "torch.int32\n"
     ]
    },
    {
     "name": "stderr",
     "output_type": "stream",
     "text": [
      "C:\\Users\\jianghaitao1\\AppData\\Local\\Continuum\\anaconda3\\lib\\site-packages\\ipykernel_launcher.py:23: UserWarning: To copy construct from a tensor, it is recommended to use sourceTensor.clone().detach() or sourceTensor.clone().detach().requires_grad_(True), rather than torch.tensor(sourceTensor).\n"
     ]
    }
   ],
   "source": [
    "# 训练模型\n",
    "torch.manual_seed(0)\n",
    "# 模型batch大小\n",
    "batch_size = 128\n",
    "# epoch数\n",
    "n_epochs = 25\n",
    "for epoch in range(1,n_epochs+1):\n",
    "    # 保持记录训练与验证集损失\n",
    "    train_loss = 0.0\n",
    "    # 打乱数据\n",
    "    permutation = torch.randperm(X_train.size()[0])\n",
    "    training_loss = []\n",
    "    for i in tqdm(range(0,X_train.size()[0],batch_size)):\n",
    "        indices = permutation[i:i+batch_size]\n",
    "        batch_x,batch_y = X_train[indices],y_train[indices]\n",
    "        if torch.cuda.is_available():\n",
    "            batch_x,batch_y = batch_x.cuda(),batch_y.cuda()\n",
    "        optimizer.zero_grad()\n",
    "        \n",
    "        outputs = model(batch_x)\n",
    "        print(outputs.dtype)\n",
    "        print(batch_y.dtype)\n",
    "        batch_y = torch.tensor(batch_y,dtype=torch.long).cuda()\n",
    "        loss = criterion(outputs,batch_y)\n",
    "        \n",
    "        training_loss.append(loss.item())\n",
    "        loss.backward()\n",
    "        optimizer.step()\n",
    "    training_loss = np.average(training_loss)\n",
    "    print('epoch: \\t', epoch, '\\t training loss: \\t', training_loss)"
   ]
  },
  {
   "cell_type": "code",
   "execution_count": null,
   "metadata": {},
   "outputs": [],
   "source": []
  }
 ],
 "metadata": {
  "kernelspec": {
   "display_name": "Python [conda env:root] *",
   "language": "python",
   "name": "conda-root-py"
  },
  "language_info": {
   "codemirror_mode": {
    "name": "ipython",
    "version": 3
   },
   "file_extension": ".py",
   "mimetype": "text/x-python",
   "name": "python",
   "nbconvert_exporter": "python",
   "pygments_lexer": "ipython3",
   "version": "3.6.5"
  }
 },
 "nbformat": 4,
 "nbformat_minor": 2
}
