{
 "cells": [
  {
   "cell_type": "markdown",
   "metadata": {},
   "source": [
    "https://zhuanlan.zhihu.com/p/107737884"
   ]
  },
  {
   "cell_type": "code",
   "execution_count": 3,
   "metadata": {},
   "outputs": [],
   "source": [
    "from keras.layers import Input,LSTM,Bidirectional,Dense,Dropout,Concatenate,Embedding,GlobalMaxPool1D\n",
    "from keras.models import Model\n",
    "from keras_contrib.layers import CRF\n",
    "import keras.backend as K\n",
    "from keras.utils import plot_model"
   ]
  },
  {
   "cell_type": "code",
   "execution_count": 4,
   "metadata": {},
   "outputs": [],
   "source": [
    "K.clear_session()\n",
    "maxlen = 40"
   ]
  },
  {
   "cell_type": "code",
   "execution_count": 5,
   "metadata": {},
   "outputs": [
    {
     "name": "stdout",
     "output_type": "stream",
     "text": [
      "__________________________________________________________________________________________________\n",
      "Layer (type)                    Output Shape         Param #     Connected to                     \n",
      "==================================================================================================\n",
      "pos_en1_id (InputLayer)         (None, 40)           0                                            \n",
      "__________________________________________________________________________________________________\n",
      "pos_en2_id (InputLayer)         (None, 40)           0                                            \n",
      "__________________________________________________________________________________________________\n",
      "sen_emb (InputLayer)            (None, 40, 768)      0                                            \n",
      "__________________________________________________________________________________________________\n",
      "pos_en1_emb (Embedding)         (None, 40, 8)        320         pos_en1_id[0][0]                 \n",
      "__________________________________________________________________________________________________\n",
      "pos_en2_emb (Embedding)         (None, 40, 8)        320         pos_en2_id[0][0]                 \n",
      "__________________________________________________________________________________________________\n",
      "concatenate_1 (Concatenate)     (None, 40, 784)      0           sen_emb[0][0]                    \n",
      "                                                                 pos_en1_emb[0][0]                \n",
      "                                                                 pos_en2_emb[0][0]                \n",
      "__________________________________________________________________________________________________\n",
      "bidirectional_1 (Bidirectional) (None, 40, 256)      934912      concatenate_1[0][0]              \n",
      "__________________________________________________________________________________________________\n",
      "global_max_pooling1d_1 (GlobalM (None, 256)          0           bidirectional_1[0][0]            \n",
      "__________________________________________________________________________________________________\n",
      "dense_1 (Dense)                 (None, 64)           16448       global_max_pooling1d_1[0][0]     \n",
      "__________________________________________________________________________________________________\n",
      "dropout_1 (Dropout)             (None, 64)           0           dense_1[0][0]                    \n",
      "__________________________________________________________________________________________________\n",
      "out1 (Dense)                    (None, 10)           650         dropout_1[0][0]                  \n",
      "__________________________________________________________________________________________________\n",
      "crf_output (CRF)                (None, 40, 2)        522         bidirectional_1[0][0]            \n",
      "==================================================================================================\n",
      "Total params: 953,172\n",
      "Trainable params: 953,172\n",
      "Non-trainable params: 0\n",
      "__________________________________________________________________________________________________\n"
     ]
    },
    {
     "name": "stderr",
     "output_type": "stream",
     "text": [
      "C:\\Users\\jianghaitao1\\AppData\\Local\\Continuum\\anaconda3\\lib\\site-packages\\keras_contrib\\layers\\crf.py:346: UserWarning: CRF.loss_function is deprecated and it might be removed in the future. Please use losses.crf_loss instead.\n",
      "  warnings.warn('CRF.loss_function is deprecated '\n"
     ]
    }
   ],
   "source": [
    "# 输入\n",
    "inputs = Input(shape=(maxlen,768),name=\"sen_emb\")\n",
    "pos1_en = Input(shape=(maxlen,),name=\"pos_en1_id\")\n",
    "pos2_en = Input(shape=(maxlen,),name=\"pos_en2_id\")\n",
    "pos1_emb = Embedding(maxlen,8,input_length=maxlen,name = \"pos_en1_emb\")(pos1_en)\n",
    "pos2_emb = Embedding(maxlen,8,input_length=maxlen,name = \"pos_en2_emb\")(pos2_en)\n",
    "x = Concatenate(axis=2)([inputs,pos1_emb,pos2_emb])\n",
    "# 参数共享部分\n",
    "x = Bidirectional(LSTM(128,return_sequences=True))(x)\n",
    "# 任务一，10分类的文本分类任务\n",
    "out1 = GlobalMaxPool1D()(x)\n",
    "out1 = Dense(64, activation='relu')(out1)\n",
    "out1 = Dropout(0.5)(out1)\n",
    "out1 = Dense(10, activation='softmax',name = \"out1\")(out1)\n",
    "# 任务二，实体识别任务\n",
    "crf = CRF(2, sparse_target=True,name =\"crf_output\")\n",
    "crf_output = crf(x)\n",
    "# 模型有两个输出out1,crf_output\n",
    "model = Model(inputs=[inputs,pos1_en,pos2_en], outputs=[out1,crf_output])\n",
    "model.summary()\n",
    "# 模型有两个loss,categorical_crossentropy和crf.loss_function\n",
    "model.compile(optimizer='adam',\n",
    "              loss={'out1': 'categorical_crossentropy','crf_output': crf.loss_function},\n",
    "              loss_weights={'out1':1, 'crf_output': 1},\n",
    "              metrics=[\"acc\"])\n",
    "plot_model(model,to_file=\"../dataset/model.png\")"
   ]
  },
  {
   "cell_type": "code",
   "execution_count": null,
   "metadata": {},
   "outputs": [],
   "source": []
  }
 ],
 "metadata": {
  "kernelspec": {
   "display_name": "Python [conda env:root]",
   "language": "python",
   "name": "conda-root-py"
  },
  "language_info": {
   "codemirror_mode": {
    "name": "ipython",
    "version": 3
   },
   "file_extension": ".py",
   "mimetype": "text/x-python",
   "name": "python",
   "nbconvert_exporter": "python",
   "pygments_lexer": "ipython3",
   "version": "3.6.5"
  }
 },
 "nbformat": 4,
 "nbformat_minor": 4
}
